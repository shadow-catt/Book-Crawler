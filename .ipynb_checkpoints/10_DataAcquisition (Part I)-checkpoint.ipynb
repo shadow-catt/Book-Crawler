{
 "cells": [
  {
   "cell_type": "markdown",
   "metadata": {},
   "source": [
    "# Lecture 10 : Data Acquisition (Part I)\n",
    "# Data Science, DST, UIC"
   ]
  },
  {
   "cell_type": "markdown",
   "metadata": {},
   "source": [
    "Data is available from a variety of sources but must be retrieved and ultimately processed before it can be used. We can find it in numerous public data sources as\n",
    "- simple local files \n",
    "- more complex forms across the Internet. \n",
    "\n",
    "In this chapter, we will demonstrate how to acquire data from both local files as well as Internets with various data formats. We first starts with reading and writing data in various formats from local files and then introduce web scraping techniques."
   ]
  },
  {
   "cell_type": "markdown",
   "metadata": {},
   "source": [
    "# Reading and Writing Data in Various Formats"
   ]
  },
  {
   "cell_type": "markdown",
   "metadata": {},
   "source": [
    "## 1. Data Formats used in data science applications\n",
    "When we discuss data formats, we are referring to content format, as opposed to the underlying file format. We cannot\n",
    "examine all available formats due to the vast number of formats available. Instead, we will tackle several of the commonly used formats, providing adequate examples to address the most common data retrieval needs. \n",
    "\n",
    "Specifically, we will demonstrate how to retrieve data stored in the following formats:\n",
    "- CSV\n",
    "- Spreadsheets\n",
    "- JSON\n",
    "- XML\n",
    "\n",
    "\n",
    "The Pandas I/O API is a set of top level *reader* functions accessed like ``pandas.read_csv()`` that generally return a pandas object. The corresponding *writer* functions are object methods that are accessed like ``DataFrame.to_csv()``. Below is a table containing available readers and writers.\n",
    "\n",
    "|Data Format| Reader| Writer|\n",
    "|------------|------------|------------|\n",
    "|CSV|``read_csv``|``to_csv``|\n",
    "|Spreadsheet|``read_excel``|``to_excel``|\n",
    "|JSON|``read_json``|``to_json``|\n",
    "|XML|``-``|``-``|\n",
    "\n",
    "\n",
    "With Python being a popular language for data analysis, it provides various built-in modules for reading and writing data in different formats. Following shows the various data formats and the corresponding module:\n",
    "\n",
    "|Data Format| Module| \n",
    "|-----------|-----------|\n",
    "|CSV| ``csv``|\n",
    "|Spreadsheet|``xlrd``,``xlwt``|\n",
    "|JSON|``json``|\n",
    "|XML|``ElementTree``|"
   ]
  },
  {
   "cell_type": "markdown",
   "metadata": {},
   "source": [
    "## 2. CSV\n",
    "\n",
    "- **Comma Separated Values (CSV)** files, contain tabular data organized in a row-column format. \n",
    "- The data, stored as plaintext, is stored in rows, also called *records*. Each record contains fields separated by **commas**. \n",
    "\n",
    "The following is a part of a simple CSV file:\n",
    "\n",
    "``city,latd,longd,population_total,area_total,area_land,area_water,area_water_percent\n",
    "Adelanto,34.57611111,-117.4327778,31765,145.107,145.062,0.046,0.03\n",
    "AgouraHills,34.15333333,-118.7616667,20330,20.26,20.184,0.076,0.37\n",
    "Alameda,37.75611111,-122.2744444,75467,59.465,27.482,31.983,53.79\n",
    "Albany,37.88694444,-122.2977778,18969,14.155,4.632,9.524,67.28\n",
    "Alhambra,34.08194444,-118.135,83089,19.766,19.763,0.003,0.01\n",
    "AlisoViejo,33.575,-117.7255556,47823,19.352,19.352,0,0``"
   ]
  },
  {
   "cell_type": "markdown",
   "metadata": {},
   "source": [
    "Notice that the first row contains header data to describe the subsequent records. Each\n",
    "value is separated by a comma and corresponds to the header in the same position. "
   ]
  },
  {
   "cell_type": "markdown",
   "metadata": {},
   "source": [
    "### 2.1 Read & Write CSV data with ``csv`` module"
   ]
  },
  {
   "cell_type": "markdown",
   "metadata": {},
   "source": [
    "Python provides ``csv`` module to read and write CSV data. The ``csv`` module implements classes to read and write tabular data in CSV format.\n",
    "- The ``csv`` module’s ``reader`` and ``writer`` objects can read and write sequences. \n",
    "- You can also read and write data in dictionary form using the ``DictReader`` and ``DictWriter`` objects."
   ]
  },
  {
   "cell_type": "markdown",
   "metadata": {},
   "source": [
    "The returned object of ``csv.reader`` and ``csv.DictReader`` are iterators. Each iteration returns a row (sequence or dictionary)\n",
    "of the CSV file.\n",
    "\n",
    "``with`` statement in Python is used in exception handling to make the code cleaner and much more readable.\n",
    "- ``with`` statement helps avoiding bugs and leaks by ensuring that a resource is properly released when the code using the resource is completely executed. \n",
    "- The ``with`` statement is popularly used with file streams, as shown below and with Locks, sockets, subprocesses and telnets etc.\n"
   ]
  },
  {
   "cell_type": "code",
   "execution_count": 1,
   "metadata": {},
   "outputs": [
    {
     "name": "stdout",
     "output_type": "stream",
     "text": [
      "['Name', 'Age']\n",
      "['Anna', '12']\n",
      "['Bob', '13']\n",
      "['Charles', '8']\n",
      "['Damon', '9']\n"
     ]
    }
   ],
   "source": [
    "import csv\n",
    "# open() :Open file and return a stream.\n",
    "# csv.reader(): The returned object is an iterator.  Each iteration returns a row of the CSV file\n",
    "with open('sample.csv','r') as csvfile:\n",
    "    freader = csv.reader(csvfile)\n",
    "    for row in freader:\n",
    "#         print (row)\n",
    "        print(row[1:3])"
   ]
  },
  {
   "cell_type": "code",
   "execution_count": 2,
   "metadata": {},
   "outputs": [
    {
     "name": "stdout",
     "output_type": "stream",
     "text": [
      "OrderedDict([('', '0'), ('Name', 'Anna'), ('Age', '12')])\n",
      "Anna 12\n",
      "OrderedDict([('', '1'), ('Name', 'Bob'), ('Age', '13')])\n",
      "Bob 13\n",
      "OrderedDict([('', '2'), ('Name', 'Charles'), ('Age', '8')])\n",
      "Charles 8\n",
      "OrderedDict([('', '3'), ('Name', 'Damon'), ('Age', '9')])\n",
      "Damon 9\n"
     ]
    }
   ],
   "source": [
    "with open('sample.csv','r') as csvfile:\n",
    "    dreader = csv.DictReader(csvfile)\n",
    "    for row in dreader:\n",
    "        print(row)\n",
    "        print(row['Name'],row['Age'])"
   ]
  },
  {
   "cell_type": "markdown",
   "metadata": {},
   "source": [
    "The csv module can also read and write tabular data in txt file as long as the format is CSV."
   ]
  },
  {
   "cell_type": "code",
   "execution_count": 3,
   "metadata": {},
   "outputs": [
    {
     "name": "stdout",
     "output_type": "stream",
     "text": [
      "OrderedDict([('', '0'), ('Name', 'Anna'), ('Age', '12')])\n",
      "Anna 12\n",
      "OrderedDict([('', '1'), ('Name', 'Bob'), ('Age', '13')])\n",
      "Bob 13\n",
      "OrderedDict([('', '2'), ('Name', 'Charles'), ('Age', '8')])\n",
      "Charles 8\n",
      "OrderedDict([('', '3'), ('Name', 'Damon'), ('Age', '9')])\n",
      "Damon 9\n"
     ]
    }
   ],
   "source": [
    "with open('sample.txt','r') as csvfile:\n",
    "    dreader = csv.DictReader(csvfile)\n",
    "    for row in dreader:\n",
    "        print(row)\n",
    "        print(row['Name'],row['Age'])"
   ]
  },
  {
   "cell_type": "markdown",
   "metadata": {},
   "source": [
    "Writing to CSV file can be performed using ``csv.writer``:"
   ]
  },
  {
   "cell_type": "code",
   "execution_count": 4,
   "metadata": {},
   "outputs": [],
   "source": [
    "header = ['Name','Age']\n",
    "rows = [['Anna',13],['Bob',12],['Charles',8],['Damon','9']]\n",
    "with open('writeCSV_sample.csv', 'w', newline='') as csvfile:\n",
    "    writer = csv.writer(csvfile)\n",
    "    writer.writerow(header)\n",
    "    writer.writerows(rows)"
   ]
  },
  {
   "cell_type": "code",
   "execution_count": 5,
   "metadata": {},
   "outputs": [
    {
     "name": "stdout",
     "output_type": "stream",
     "text": [
      "['Name', 'Age']\n",
      "['Anna', '13']\n",
      "['Bob', '12']\n",
      "['Charles', '8']\n",
      "['Damon', '9']\n"
     ]
    }
   ],
   "source": [
    "with open('writeCSV_sample.csv','r')as csvfile:\n",
    "    freader = csv.reader(csvfile)\n",
    "    for row in freader:\n",
    "        print(row)"
   ]
  },
  {
   "cell_type": "code",
   "execution_count": 6,
   "metadata": {},
   "outputs": [],
   "source": [
    "dict_data = [{'Name':'Anna','Age':'13'},{'Name':'Bob','Age':'12'}]\n",
    "with open('writeDictCSV_sample.csv', 'w', newline='') as csvfile:\n",
    "    fieldnames = ['Name', 'Age']\n",
    "    writer = csv.DictWriter(csvfile, fieldnames=fieldnames)\n",
    "    writer.writeheader()\n",
    "    writer.writerows(dict_data)\n",
    "    writer.writerow({'Name': 'Charles', 'Age': '8'})\n",
    "    writer.writerow({'Name': 'Damon', 'Age': '9'})"
   ]
  },
  {
   "cell_type": "code",
   "execution_count": 7,
   "metadata": {},
   "outputs": [
    {
     "name": "stdout",
     "output_type": "stream",
     "text": [
      "OrderedDict([('Name', 'Anna'), ('Age', '13')])\n",
      "OrderedDict([('Name', 'Bob'), ('Age', '12')])\n",
      "OrderedDict([('Name', 'Charles'), ('Age', '8')])\n",
      "OrderedDict([('Name', 'Damon'), ('Age', '9')])\n"
     ]
    }
   ],
   "source": [
    "csvfile = open('writeDictCSV_sample.csv','r')\n",
    "freader = csv.DictReader(csvfile)\n",
    "for row in freader:\n",
    "    print(row)\n",
    "csvfile.close()"
   ]
  },
  {
   "cell_type": "markdown",
   "metadata": {},
   "source": [
    "- ``writerow(row)`` method writes the *row* parameter to the writer’s file object.\n",
    "- ``writerows(rows)`` writes all elements in *rows* to the writer's file object. "
   ]
  },
  {
   "cell_type": "markdown",
   "metadata": {},
   "source": [
    "### 2.2 Read & Write CSV data with Pandas"
   ]
  },
  {
   "cell_type": "code",
   "execution_count": 8,
   "metadata": {},
   "outputs": [
    {
     "data": {
      "text/html": [
       "<div>\n",
       "<style scoped>\n",
       "    .dataframe tbody tr th:only-of-type {\n",
       "        vertical-align: middle;\n",
       "    }\n",
       "\n",
       "    .dataframe tbody tr th {\n",
       "        vertical-align: top;\n",
       "    }\n",
       "\n",
       "    .dataframe thead th {\n",
       "        text-align: right;\n",
       "    }\n",
       "</style>\n",
       "<table border=\"1\" class=\"dataframe\">\n",
       "  <thead>\n",
       "    <tr style=\"text-align: right;\">\n",
       "      <th></th>\n",
       "      <th>city</th>\n",
       "      <th>latd</th>\n",
       "      <th>longd</th>\n",
       "      <th>population_total</th>\n",
       "      <th>area_total</th>\n",
       "      <th>area_land</th>\n",
       "      <th>area_water</th>\n",
       "      <th>area_water_percent</th>\n",
       "    </tr>\n",
       "  </thead>\n",
       "  <tbody>\n",
       "    <tr>\n",
       "      <th>0</th>\n",
       "      <td>Adelanto</td>\n",
       "      <td>34.576111</td>\n",
       "      <td>-117.432778</td>\n",
       "      <td>31765</td>\n",
       "      <td>145.107</td>\n",
       "      <td>145.062</td>\n",
       "      <td>0.046</td>\n",
       "      <td>0.03</td>\n",
       "    </tr>\n",
       "    <tr>\n",
       "      <th>1</th>\n",
       "      <td>AgouraHills</td>\n",
       "      <td>34.153333</td>\n",
       "      <td>-118.761667</td>\n",
       "      <td>20330</td>\n",
       "      <td>20.260</td>\n",
       "      <td>20.184</td>\n",
       "      <td>0.076</td>\n",
       "      <td>0.37</td>\n",
       "    </tr>\n",
       "    <tr>\n",
       "      <th>2</th>\n",
       "      <td>Alameda</td>\n",
       "      <td>37.756111</td>\n",
       "      <td>-122.274444</td>\n",
       "      <td>75467</td>\n",
       "      <td>59.465</td>\n",
       "      <td>27.482</td>\n",
       "      <td>31.983</td>\n",
       "      <td>53.79</td>\n",
       "    </tr>\n",
       "    <tr>\n",
       "      <th>3</th>\n",
       "      <td>Albany</td>\n",
       "      <td>37.886944</td>\n",
       "      <td>-122.297778</td>\n",
       "      <td>18969</td>\n",
       "      <td>14.155</td>\n",
       "      <td>4.632</td>\n",
       "      <td>9.524</td>\n",
       "      <td>67.28</td>\n",
       "    </tr>\n",
       "    <tr>\n",
       "      <th>4</th>\n",
       "      <td>Alhambra</td>\n",
       "      <td>34.081944</td>\n",
       "      <td>-118.135000</td>\n",
       "      <td>83089</td>\n",
       "      <td>19.766</td>\n",
       "      <td>19.763</td>\n",
       "      <td>0.003</td>\n",
       "      <td>0.01</td>\n",
       "    </tr>\n",
       "  </tbody>\n",
       "</table>\n",
       "</div>"
      ],
      "text/plain": [
       "          city       latd       longd  population_total  area_total  \\\n",
       "0     Adelanto  34.576111 -117.432778             31765     145.107   \n",
       "1  AgouraHills  34.153333 -118.761667             20330      20.260   \n",
       "2      Alameda  37.756111 -122.274444             75467      59.465   \n",
       "3       Albany  37.886944 -122.297778             18969      14.155   \n",
       "4     Alhambra  34.081944 -118.135000             83089      19.766   \n",
       "\n",
       "   area_land  area_water  area_water_percent  \n",
       "0    145.062       0.046                0.03  \n",
       "1     20.184       0.076                0.37  \n",
       "2     27.482      31.983               53.79  \n",
       "3      4.632       9.524               67.28  \n",
       "4     19.763       0.003                0.01  "
      ]
     },
     "execution_count": 8,
     "metadata": {},
     "output_type": "execute_result"
    }
   ],
   "source": [
    "import pandas as pd\n",
    "cal_data = pd.read_csv(\"california_cities.csv\")\n",
    "cal_data.head()"
   ]
  },
  {
   "cell_type": "markdown",
   "metadata": {},
   "source": [
    "The ``read_csv`` function takes the path of the ``.csv`` file to input the data. To write a data to the ``.csv`` file, we can use ``to_csv`` function of ``pandas``:"
   ]
  },
  {
   "cell_type": "code",
   "execution_count": 9,
   "metadata": {},
   "outputs": [],
   "source": [
    "w_data = {'Name':['Anna','Bob','Charles','Damon'],'Age':[12,13,8,9] }\n",
    "df_data = pd.DataFrame(w_data)\n",
    "df_data.to_csv('sample_1.csv')"
   ]
  },
  {
   "cell_type": "markdown",
   "metadata": {},
   "source": [
    "The ``DataFrame`` is written to a ``.csv`` file by using the ``to_csv`` method. The path and\n",
    "the filename where the file needs to be created should be mentioned."
   ]
  },
  {
   "cell_type": "code",
   "execution_count": 10,
   "metadata": {},
   "outputs": [
    {
     "data": {
      "text/html": [
       "<div>\n",
       "<style scoped>\n",
       "    .dataframe tbody tr th:only-of-type {\n",
       "        vertical-align: middle;\n",
       "    }\n",
       "\n",
       "    .dataframe tbody tr th {\n",
       "        vertical-align: top;\n",
       "    }\n",
       "\n",
       "    .dataframe thead th {\n",
       "        text-align: right;\n",
       "    }\n",
       "</style>\n",
       "<table border=\"1\" class=\"dataframe\">\n",
       "  <thead>\n",
       "    <tr style=\"text-align: right;\">\n",
       "      <th></th>\n",
       "      <th>Unnamed: 0</th>\n",
       "      <th>Name</th>\n",
       "      <th>Age</th>\n",
       "    </tr>\n",
       "  </thead>\n",
       "  <tbody>\n",
       "    <tr>\n",
       "      <th>0</th>\n",
       "      <td>0</td>\n",
       "      <td>Anna</td>\n",
       "      <td>12</td>\n",
       "    </tr>\n",
       "    <tr>\n",
       "      <th>1</th>\n",
       "      <td>1</td>\n",
       "      <td>Bob</td>\n",
       "      <td>13</td>\n",
       "    </tr>\n",
       "    <tr>\n",
       "      <th>2</th>\n",
       "      <td>2</td>\n",
       "      <td>Charles</td>\n",
       "      <td>8</td>\n",
       "    </tr>\n",
       "    <tr>\n",
       "      <th>3</th>\n",
       "      <td>3</td>\n",
       "      <td>Damon</td>\n",
       "      <td>9</td>\n",
       "    </tr>\n",
       "  </tbody>\n",
       "</table>\n",
       "</div>"
      ],
      "text/plain": [
       "   Unnamed: 0     Name  Age\n",
       "0           0     Anna   12\n",
       "1           1      Bob   13\n",
       "2           2  Charles    8\n",
       "3           3    Damon    9"
      ]
     },
     "execution_count": 10,
     "metadata": {},
     "output_type": "execute_result"
    }
   ],
   "source": [
    "r_data = pd.read_csv('sample_1.csv')\n",
    "r_data"
   ]
  },
  {
   "cell_type": "markdown",
   "metadata": {},
   "source": [
    "Here, the ``to_csv`` function will write row names (index) by default. There are two ways to handle the situation where we do not want the index to be stored in csv file\n",
    "- You can use ``index = False`` while saving dataframe to csv file.\n"
   ]
  },
  {
   "cell_type": "code",
   "execution_count": 11,
   "metadata": {},
   "outputs": [
    {
     "data": {
      "text/html": [
       "<div>\n",
       "<style scoped>\n",
       "    .dataframe tbody tr th:only-of-type {\n",
       "        vertical-align: middle;\n",
       "    }\n",
       "\n",
       "    .dataframe tbody tr th {\n",
       "        vertical-align: top;\n",
       "    }\n",
       "\n",
       "    .dataframe thead th {\n",
       "        text-align: right;\n",
       "    }\n",
       "</style>\n",
       "<table border=\"1\" class=\"dataframe\">\n",
       "  <thead>\n",
       "    <tr style=\"text-align: right;\">\n",
       "      <th></th>\n",
       "      <th>Name</th>\n",
       "      <th>Age</th>\n",
       "    </tr>\n",
       "  </thead>\n",
       "  <tbody>\n",
       "    <tr>\n",
       "      <th>0</th>\n",
       "      <td>Anna</td>\n",
       "      <td>12</td>\n",
       "    </tr>\n",
       "    <tr>\n",
       "      <th>1</th>\n",
       "      <td>Bob</td>\n",
       "      <td>13</td>\n",
       "    </tr>\n",
       "    <tr>\n",
       "      <th>2</th>\n",
       "      <td>Charles</td>\n",
       "      <td>8</td>\n",
       "    </tr>\n",
       "    <tr>\n",
       "      <th>3</th>\n",
       "      <td>Damon</td>\n",
       "      <td>9</td>\n",
       "    </tr>\n",
       "  </tbody>\n",
       "</table>\n",
       "</div>"
      ],
      "text/plain": [
       "      Name  Age\n",
       "0     Anna   12\n",
       "1      Bob   13\n",
       "2  Charles    8\n",
       "3    Damon    9"
      ]
     },
     "execution_count": 11,
     "metadata": {},
     "output_type": "execute_result"
    }
   ],
   "source": [
    "df_data.to_csv('sample_WT_Index.csv', index = False)\n",
    "r_data = pd.read_csv('sample_WT_Index.csv')\n",
    "r_data"
   ]
  },
  {
   "cell_type": "markdown",
   "metadata": {},
   "source": [
    "- Or you can save your dataframe as it is with index. While reading, just drop the column containing the index."
   ]
  },
  {
   "cell_type": "code",
   "execution_count": 12,
   "metadata": {},
   "outputs": [
    {
     "data": {
      "text/html": [
       "<div>\n",
       "<style scoped>\n",
       "    .dataframe tbody tr th:only-of-type {\n",
       "        vertical-align: middle;\n",
       "    }\n",
       "\n",
       "    .dataframe tbody tr th {\n",
       "        vertical-align: top;\n",
       "    }\n",
       "\n",
       "    .dataframe thead th {\n",
       "        text-align: right;\n",
       "    }\n",
       "</style>\n",
       "<table border=\"1\" class=\"dataframe\">\n",
       "  <thead>\n",
       "    <tr style=\"text-align: right;\">\n",
       "      <th></th>\n",
       "      <th>Name</th>\n",
       "      <th>Age</th>\n",
       "    </tr>\n",
       "  </thead>\n",
       "  <tbody>\n",
       "    <tr>\n",
       "      <th>0</th>\n",
       "      <td>Anna</td>\n",
       "      <td>12</td>\n",
       "    </tr>\n",
       "    <tr>\n",
       "      <th>1</th>\n",
       "      <td>Bob</td>\n",
       "      <td>13</td>\n",
       "    </tr>\n",
       "    <tr>\n",
       "      <th>2</th>\n",
       "      <td>Charles</td>\n",
       "      <td>8</td>\n",
       "    </tr>\n",
       "    <tr>\n",
       "      <th>3</th>\n",
       "      <td>Damon</td>\n",
       "      <td>9</td>\n",
       "    </tr>\n",
       "  </tbody>\n",
       "</table>\n",
       "</div>"
      ],
      "text/plain": [
       "      Name  Age\n",
       "0     Anna   12\n",
       "1      Bob   13\n",
       "2  Charles    8\n",
       "3    Damon    9"
      ]
     },
     "execution_count": 12,
     "metadata": {},
     "output_type": "execute_result"
    }
   ],
   "source": [
    "r_data = pd.read_csv('sample_1.csv').drop(['Unnamed: 0'],axis=1)\n",
    "r_data"
   ]
  },
  {
   "cell_type": "markdown",
   "metadata": {},
   "source": [
    "- You can also read the data with the index by using ``index_col='Unnamed: 0'``:"
   ]
  },
  {
   "cell_type": "code",
   "execution_count": 13,
   "metadata": {},
   "outputs": [
    {
     "data": {
      "text/html": [
       "<div>\n",
       "<style scoped>\n",
       "    .dataframe tbody tr th:only-of-type {\n",
       "        vertical-align: middle;\n",
       "    }\n",
       "\n",
       "    .dataframe tbody tr th {\n",
       "        vertical-align: top;\n",
       "    }\n",
       "\n",
       "    .dataframe thead th {\n",
       "        text-align: right;\n",
       "    }\n",
       "</style>\n",
       "<table border=\"1\" class=\"dataframe\">\n",
       "  <thead>\n",
       "    <tr style=\"text-align: right;\">\n",
       "      <th></th>\n",
       "      <th>Name</th>\n",
       "      <th>Age</th>\n",
       "    </tr>\n",
       "  </thead>\n",
       "  <tbody>\n",
       "    <tr>\n",
       "      <th>0</th>\n",
       "      <td>Anna</td>\n",
       "      <td>12</td>\n",
       "    </tr>\n",
       "    <tr>\n",
       "      <th>1</th>\n",
       "      <td>Bob</td>\n",
       "      <td>13</td>\n",
       "    </tr>\n",
       "    <tr>\n",
       "      <th>2</th>\n",
       "      <td>Charles</td>\n",
       "      <td>8</td>\n",
       "    </tr>\n",
       "    <tr>\n",
       "      <th>3</th>\n",
       "      <td>Damon</td>\n",
       "      <td>9</td>\n",
       "    </tr>\n",
       "  </tbody>\n",
       "</table>\n",
       "</div>"
      ],
      "text/plain": [
       "      Name  Age\n",
       "0     Anna   12\n",
       "1      Bob   13\n",
       "2  Charles    8\n",
       "3    Damon    9"
      ]
     },
     "execution_count": 13,
     "metadata": {},
     "output_type": "execute_result"
    }
   ],
   "source": [
    "r_data = pd.read_csv('sample_1.csv', index_col='Unnamed: 0')\n",
    "r_data"
   ]
  },
  {
   "cell_type": "markdown",
   "metadata": {},
   "source": [
    "As the ``read_csv`` function returns a ``DataFrame`` object. You can process and manage the data as introduced in Pandas chapter."
   ]
  },
  {
   "cell_type": "markdown",
   "metadata": {},
   "source": [
    "## 3. Spreadsheets"
   ]
  },
  {
   "attachments": {
    "spreadsheet.png": {
     "image/png": "[encoded data removed]"
    }
   },
   "cell_type": "markdown",
   "metadata": {},
   "source": [
    "Spreadsheets are a form of tabular data where information is stored in rows and columns, much like a two-dimensional array. They typically contain numeric and textual information and use formulas to summarize and analyze their contents. \n",
    "\n",
    "Spreadsheets are an important data source because they have been used for the past several decades to store information in many industries and applications. Their tabular nature makes them easy to process and analyze. It is important to know how to extract data from this ubiquitous data source so that we can take advantage of the wealth of information that is stored in them.\n",
    "\n",
    "![spreadsheet.png](attachment:spreadsheet.png)"
   ]
  },
  {
   "cell_type": "markdown",
   "metadata": {},
   "source": [
    "### 3.1 Read & Write Spreadsheet Data with ``xlrd`` and ``xlwt`` modules\n",
    "Similarly, python also provides a ``xlrd`` module to extract data from spreadsheet and ``xlwt`` module to write to spreadsheet files."
   ]
  },
  {
   "cell_type": "code",
   "execution_count": 14,
   "metadata": {},
   "outputs": [
    {
     "name": "stdout",
     "output_type": "stream",
     "text": [
      "Name\n",
      "['Name', 'Age', 'Gender']\n",
      "['Name', 'Age', 'Gender']\n",
      "['Anna', 12.0, 'F']\n",
      "['Bob', 13.0, 'M']\n",
      "['Charles', 8.0, 'M']\n",
      "['Damon', 9.0, 'M']\n"
     ]
    }
   ],
   "source": [
    "import xlrd\n",
    "wb = xlrd.open_workbook('students.xlsx')\n",
    "sheet = wb.sheet_by_index(0)\n",
    "# sheet = wb.sheet_by_name('Student')\n",
    "# get cell value\n",
    "print(sheet.cell_value(0,0))\n",
    "\n",
    "# get row value\n",
    "print(sheet.row_values(0))\n",
    "\n",
    "# get value from each row\n",
    "for i in range(sheet.nrows):\n",
    "    print(sheet.row_values(i))"
   ]
  },
  {
   "cell_type": "code",
   "execution_count": 15,
   "metadata": {},
   "outputs": [],
   "source": [
    "import xlwt\n",
    "# Workbook is created \n",
    "wb = xlwt.Workbook() \n",
    "  \n",
    "# add_sheet is used to create sheet. \n",
    "sheet1 = wb.add_sheet('student_info') \n",
    "  \n",
    "sheet1.write(0, 0, 'Name') \n",
    "sheet1.write(1, 0, 'Anna') \n",
    "sheet1.write(2, 0, 'Bob') \n",
    "sheet1.write(3, 0, 'Charles') \n",
    "sheet1.write(4, 0, 'Damon') \n",
    "sheet1.write(0, 1, 'Age') \n",
    "sheet1.write(1, 1, '13') \n",
    "sheet1.write(2, 1, '12') \n",
    "sheet1.write(3, 1, '8') \n",
    "sheet1.write(4, 1, '9') \n",
    "  \n",
    "wb.save('writeExcel_sample.xlsx') "
   ]
  },
  {
   "cell_type": "markdown",
   "metadata": {},
   "source": [
    "### 3.2 Read & Write Spreadsheet with Pandas\n",
    "Excel files can be read using the Python module Pandas. The method ``read_excel()`` reads the data into a Pandas DataFrame, where the first parameter is the filename and the second parameter is the sheet name."
   ]
  },
  {
   "cell_type": "code",
   "execution_count": 16,
   "metadata": {},
   "outputs": [
    {
     "data": {
      "text/html": [
       "<div>\n",
       "<style scoped>\n",
       "    .dataframe tbody tr th:only-of-type {\n",
       "        vertical-align: middle;\n",
       "    }\n",
       "\n",
       "    .dataframe tbody tr th {\n",
       "        vertical-align: top;\n",
       "    }\n",
       "\n",
       "    .dataframe thead th {\n",
       "        text-align: right;\n",
       "    }\n",
       "</style>\n",
       "<table border=\"1\" class=\"dataframe\">\n",
       "  <thead>\n",
       "    <tr style=\"text-align: right;\">\n",
       "      <th></th>\n",
       "      <th>Name</th>\n",
       "      <th>Age</th>\n",
       "    </tr>\n",
       "  </thead>\n",
       "  <tbody>\n",
       "    <tr>\n",
       "      <th>0</th>\n",
       "      <td>Anna</td>\n",
       "      <td>13</td>\n",
       "    </tr>\n",
       "    <tr>\n",
       "      <th>1</th>\n",
       "      <td>Bob</td>\n",
       "      <td>12</td>\n",
       "    </tr>\n",
       "    <tr>\n",
       "      <th>2</th>\n",
       "      <td>Charles</td>\n",
       "      <td>8</td>\n",
       "    </tr>\n",
       "    <tr>\n",
       "      <th>3</th>\n",
       "      <td>Damon</td>\n",
       "      <td>9</td>\n",
       "    </tr>\n",
       "  </tbody>\n",
       "</table>\n",
       "</div>"
      ],
      "text/plain": [
       "      Name  Age\n",
       "0     Anna   13\n",
       "1      Bob   12\n",
       "2  Charles    8\n",
       "3    Damon    9"
      ]
     },
     "execution_count": 16,
     "metadata": {},
     "output_type": "execute_result"
    }
   ],
   "source": [
    "# import xlrd\n",
    "ex_data = pd.read_excel('writeExcel_sample.xlsx')\n",
    "ex_data"
   ]
  },
  {
   "cell_type": "code",
   "execution_count": 17,
   "metadata": {},
   "outputs": [
    {
     "data": {
      "text/html": [
       "<div>\n",
       "<style scoped>\n",
       "    .dataframe tbody tr th:only-of-type {\n",
       "        vertical-align: middle;\n",
       "    }\n",
       "\n",
       "    .dataframe tbody tr th {\n",
       "        vertical-align: top;\n",
       "    }\n",
       "\n",
       "    .dataframe thead th {\n",
       "        text-align: right;\n",
       "    }\n",
       "</style>\n",
       "<table border=\"1\" class=\"dataframe\">\n",
       "  <thead>\n",
       "    <tr style=\"text-align: right;\">\n",
       "      <th></th>\n",
       "      <th>Student</th>\n",
       "      <th>Day</th>\n",
       "    </tr>\n",
       "  </thead>\n",
       "  <tbody>\n",
       "    <tr>\n",
       "      <th>0</th>\n",
       "      <td>Bob</td>\n",
       "      <td>Monday</td>\n",
       "    </tr>\n",
       "    <tr>\n",
       "      <th>1</th>\n",
       "      <td>Anna</td>\n",
       "      <td>Tuesday</td>\n",
       "    </tr>\n",
       "    <tr>\n",
       "      <th>2</th>\n",
       "      <td>Charles</td>\n",
       "      <td>Wednesday</td>\n",
       "    </tr>\n",
       "    <tr>\n",
       "      <th>3</th>\n",
       "      <td>Damon</td>\n",
       "      <td>Thursday</td>\n",
       "    </tr>\n",
       "    <tr>\n",
       "      <th>4</th>\n",
       "      <td>Bob</td>\n",
       "      <td>Friday</td>\n",
       "    </tr>\n",
       "  </tbody>\n",
       "</table>\n",
       "</div>"
      ],
      "text/plain": [
       "   Student        Day\n",
       "0      Bob     Monday\n",
       "1     Anna    Tuesday\n",
       "2  Charles  Wednesday\n",
       "3    Damon   Thursday\n",
       "4      Bob     Friday"
      ]
     },
     "execution_count": 17,
     "metadata": {},
     "output_type": "execute_result"
    }
   ],
   "source": [
    "duty_data = pd.read_excel('students.xlsx', sheet_name = 'Duty')\n",
    "duty_data"
   ]
  },
  {
   "cell_type": "markdown",
   "metadata": {},
   "source": [
    "To write data into spreadsheets format, you can use ``to_excel`` function. ``to_excel`` serializes lists and dicts to strings before writing. Once a workbook has been saved, it is not possible write further data without rewriting the whole workbook."
   ]
  },
  {
   "cell_type": "code",
   "execution_count": 18,
   "metadata": {},
   "outputs": [],
   "source": [
    "df1 = pd.DataFrame([['a','b'],['c','d']], index=['row1','row2'], columns=['col1','col2'])\n",
    "df1.to_excel(\"sampleExcel.xlsx\", sheet_name='testsheet')"
   ]
  },
  {
   "cell_type": "code",
   "execution_count": 19,
   "metadata": {},
   "outputs": [
    {
     "data": {
      "text/html": [
       "<div>\n",
       "<style scoped>\n",
       "    .dataframe tbody tr th:only-of-type {\n",
       "        vertical-align: middle;\n",
       "    }\n",
       "\n",
       "    .dataframe tbody tr th {\n",
       "        vertical-align: top;\n",
       "    }\n",
       "\n",
       "    .dataframe thead th {\n",
       "        text-align: right;\n",
       "    }\n",
       "</style>\n",
       "<table border=\"1\" class=\"dataframe\">\n",
       "  <thead>\n",
       "    <tr style=\"text-align: right;\">\n",
       "      <th></th>\n",
       "      <th>col1</th>\n",
       "      <th>col2</th>\n",
       "    </tr>\n",
       "  </thead>\n",
       "  <tbody>\n",
       "    <tr>\n",
       "      <th>row1</th>\n",
       "      <td>a</td>\n",
       "      <td>b</td>\n",
       "    </tr>\n",
       "    <tr>\n",
       "      <th>row2</th>\n",
       "      <td>c</td>\n",
       "      <td>d</td>\n",
       "    </tr>\n",
       "  </tbody>\n",
       "</table>\n",
       "</div>"
      ],
      "text/plain": [
       "     col1 col2\n",
       "row1    a    b\n",
       "row2    c    d"
      ]
     },
     "execution_count": 19,
     "metadata": {},
     "output_type": "execute_result"
    }
   ],
   "source": [
    "df2 = pd.read_excel(\"sampleExcel.xlsx\")\n",
    "df2"
   ]
  },
  {
   "cell_type": "markdown",
   "metadata": {},
   "source": [
    "## 3. JSON \n",
    "\n",
    "- JSON (*JavaScript Object Notation*) is language-neutral data interchange format. It was created and popularized by Douglas Crockford. In its short history, JSON has become a defacto standard for data transfer across the web.\n",
    "\n",
    "- JSON is commonly used by web applications to transfer data between client and server. If you are using a web service then there are good chances that data will be returned to you in JSON format, by default."
   ]
  },
  {
   "cell_type": "markdown",
   "metadata": {},
   "source": [
    "JSON syntax is derived from JavaScript object notation syntax:\n",
    "\n",
    "- Data is in name/value pairs\n",
    "- Data is separated by commas\n",
    "- Curly braces hold objects\n",
    "- Square brackets hold arrays\n",
    "\n",
    "For example: \n",
    "``[{\"Name\":\"Anna\", \"Age\":\"13\"},{\"Name\":\"Bob\",\"Gender\": \"M\"}]`` is json format holding two objects, each object has two name/value pairs.\n",
    "Note that in JSON, **string values must be written with double quotes**.\n"
   ]
  },
  {
   "cell_type": "markdown",
   "metadata": {},
   "source": [
    "### 3.1  Read & Write JSON Data with ``json`` Module\n",
    "Python comes with a built-in package called ``json`` for encoding and decoding JSON data.\n",
    "- **Serialization**: The process of converting an object into a special format which is suitable for transmitting over the network or storing in file or database.\n",
    "- **Deserialization**:It is the reverse of serialization. It converts the special format returned by the serialization back into a usable object.\n",
    "\n",
    "In the case of JSON, when we serializing objects, we essentially convert a Python object into a JSON string and deserialization builds up the Python object from its JSON string representation. The ``json`` module mainly provides the following functions for serialization and deserialization:\n",
    "- ``dump(obj, fileobj)``\n",
    "- ``dumps(obj)``\n",
    "- ``load(fileobj)``\n",
    "- ``loads(str)``\n"
   ]
  },
  {
   "cell_type": "markdown",
   "metadata": {},
   "source": [
    "#### Serializing with ``dump()``"
   ]
  },
  {
   "cell_type": "markdown",
   "metadata": {},
   "source": [
    "The ``dump(obj,fileobj)`` function is used to serialize data. It takes a Python object, serializes it and writes the output (which is a JSON string) to a file like object."
   ]
  },
  {
   "cell_type": "code",
   "execution_count": 20,
   "metadata": {},
   "outputs": [
    {
     "data": {
      "text/plain": [
       "'{\"first_name\": \"John\", \"isAlive\": true, \"age\": 27, \"address\": {\"city\": \"New York\", \"state\": \"NY\"}, \"hasMortage\": null}'"
      ]
     },
     "execution_count": 20,
     "metadata": {},
     "output_type": "execute_result"
    }
   ],
   "source": [
    "import json\n",
    "person = {\"first_name\":\"John\", \"isAlive\":True, \"age\":27, \"address\":{\n",
    "    \"city\":\"New York\",\"state\":\"NY\"}, \"hasMortage\":None}\n",
    "with open('dumpJson_person.json','w') as f:\n",
    "    json.dump(person,f)\n",
    "\n",
    "# f.read(size) reads some quantity of data and returns it as a string.\n",
    "# When size is omitted or negative, the entire contents of the file will be read and returned; \n",
    "open('dumpJson_person.json', 'r').read()"
   ]
  },
  {
   "cell_type": "markdown",
   "metadata": {},
   "source": [
    "Notice that while serializing the object, the Python's type ``None`` is converted to JSON's ``null`` type. The following table lists the conversion happens between types when we seralize the data. When we deserialize object, JSON type is converted back to its equivalent Python type. \n",
    "\n",
    "|Python Type|JSON Type|\n",
    "|-----------|-----------|\n",
    "|dict|object|\n",
    "|list,tuple|array|\n",
    "|int|number|\n",
    "|float|number|\n",
    "|str|string|\n",
    "|True|true|\n",
    "|False|false|\n",
    "|None| null|"
   ]
  },
  {
   "cell_type": "markdown",
   "metadata": {},
   "source": [
    "Following is another example which serializes a list of two persons:"
   ]
  },
  {
   "cell_type": "code",
   "execution_count": 21,
   "metadata": {},
   "outputs": [
    {
     "data": {
      "text/plain": [
       "'[{\"first_name\": [\"John\", \"Smith\"], \"isAlive\": true, \"age\": 27, \"address\": {\"city\": \"New York\", \"state\": \"NY\"}, \"hasMortage\": null}, {\"first_name\": \"Bob\", \"isAlive\": true, \"age\": 32, \"address\": {\"city\": \"Ocean Springs\", \"state\": \"Mississippi\"}, \"hasMortage\": true}]'"
      ]
     },
     "execution_count": 21,
     "metadata": {},
     "output_type": "execute_result"
    }
   ],
   "source": [
    "persons = [{\"first_name\":(\"John\",\"Smith\"), \"isAlive\":True, \"age\":27, \"address\":{\n",
    "    \"city\":\"New York\",\"state\":\"NY\"}, \"hasMortage\":None},\n",
    "          {\"first_name\":\"Bob\", \"isAlive\":True, \"age\":32, \"address\":{\n",
    "    \"city\":\"Ocean Springs\",\"state\":\"Mississippi\"}, \"hasMortage\":True}\n",
    "          ]\n",
    "with open('dumpJson_persons.json','w') as f:\n",
    "    json.dump(persons,f)\n",
    "open('dumpJson_persons.json', 'r').read()"
   ]
  },
  {
   "cell_type": "markdown",
   "metadata": {},
   "source": [
    "#### Deserializing with load()"
   ]
  },
  {
   "cell_type": "markdown",
   "metadata": {},
   "source": [
    "To deserizalize the Python objects back, we use ``load()`` function. Its syntax is as follows:\n",
    "``load(fp)->python object``."
   ]
  },
  {
   "cell_type": "code",
   "execution_count": 22,
   "metadata": {},
   "outputs": [
    {
     "data": {
      "text/plain": [
       "dict"
      ]
     },
     "execution_count": 22,
     "metadata": {},
     "output_type": "execute_result"
    }
   ],
   "source": [
    "with open('dumpJson_person.json','r') as f:\n",
    "    person = json.load(f)\n",
    "type(person)"
   ]
  },
  {
   "cell_type": "code",
   "execution_count": 23,
   "metadata": {},
   "outputs": [
    {
     "name": "stdout",
     "output_type": "stream",
     "text": [
      "{'first_name': 'John', 'isAlive': True, 'age': 27, 'address': {'city': 'New York', 'state': 'NY'}, 'hasMortage': None}\n",
      "John\n",
      "27\n"
     ]
    }
   ],
   "source": [
    "print(person)\n",
    "print(person[\"first_name\"])\n",
    "print(person[\"age\"])"
   ]
  },
  {
   "cell_type": "code",
   "execution_count": 24,
   "metadata": {},
   "outputs": [
    {
     "data": {
      "text/plain": [
       "list"
      ]
     },
     "execution_count": 24,
     "metadata": {},
     "output_type": "execute_result"
    }
   ],
   "source": [
    "with open('dumpJson_persons.json', 'r') as f:\n",
    "    persons = json.load(f)\n",
    "type(persons)"
   ]
  },
  {
   "cell_type": "code",
   "execution_count": 25,
   "metadata": {},
   "outputs": [
    {
     "name": "stdout",
     "output_type": "stream",
     "text": [
      "[{'first_name': ['John', 'Smith'], 'isAlive': True, 'age': 27, 'address': {'city': 'New York', 'state': 'NY'}, 'hasMortage': None}, {'first_name': 'Bob', 'isAlive': True, 'age': 32, 'address': {'city': 'Ocean Springs', 'state': 'Mississippi'}, 'hasMortage': True}]\n"
     ]
    },
    {
     "data": {
      "text/plain": [
       "['John', 'Smith']"
      ]
     },
     "execution_count": 25,
     "metadata": {},
     "output_type": "execute_result"
    }
   ],
   "source": [
    "print(persons)\n",
    "persons[0][\"first_name\"]"
   ]
  },
  {
   "cell_type": "markdown",
   "metadata": {},
   "source": [
    "#### Serializing and Deserializing with ``dumps()`` and ``loads()``"
   ]
  },
  {
   "cell_type": "markdown",
   "metadata": {},
   "source": [
    "- The ``dumps()`` function works exactly like ``dump()`` but instead of sending the output to a file-like object, it returns the output as a string.\n",
    "\n",
    "- Similarly, ``loads()`` function is as same as ``load()`` but instead of deserializing the JSON string from a file, it deserializes from a string."
   ]
  },
  {
   "cell_type": "code",
   "execution_count": 26,
   "metadata": {},
   "outputs": [
    {
     "data": {
      "text/plain": [
       "{'first_name': 'John',\n",
       " 'isAlive': True,\n",
       " 'age': 27,\n",
       " 'address': {'city': 'New York', 'state': 'NY'},\n",
       " 'hasMortage': None}"
      ]
     },
     "execution_count": 26,
     "metadata": {},
     "output_type": "execute_result"
    }
   ],
   "source": [
    "person"
   ]
  },
  {
   "cell_type": "code",
   "execution_count": 27,
   "metadata": {},
   "outputs": [
    {
     "data": {
      "text/plain": [
       "'{\"first_name\": \"John\", \"isAlive\": true, \"age\": 27, \"address\": {\"city\": \"New York\", \"state\": \"NY\"}, \"hasMortage\": null}'"
      ]
     },
     "execution_count": 27,
     "metadata": {},
     "output_type": "execute_result"
    }
   ],
   "source": [
    "data = json.dumps(person)\n",
    "data"
   ]
  },
  {
   "cell_type": "code",
   "execution_count": 28,
   "metadata": {},
   "outputs": [
    {
     "name": "stdout",
     "output_type": "stream",
     "text": [
      "<class 'dict'>\n"
     ]
    },
    {
     "data": {
      "text/plain": [
       "{'first_name': 'John',\n",
       " 'isAlive': True,\n",
       " 'age': 27,\n",
       " 'address': {'city': 'New York', 'state': 'NY'},\n",
       " 'hasMortage': None}"
      ]
     },
     "execution_count": 28,
     "metadata": {},
     "output_type": "execute_result"
    }
   ],
   "source": [
    "person_n = json.loads(data)\n",
    "print(type(person_n))\n",
    "person"
   ]
  },
  {
   "cell_type": "markdown",
   "metadata": {},
   "source": [
    "\n",
    "### 3.2 Read & Write JSON Data with Pandas\n",
    "Next, we show how to read and write json with pandas library:"
   ]
  },
  {
   "cell_type": "code",
   "execution_count": 29,
   "metadata": {},
   "outputs": [
    {
     "data": {
      "text/html": [
       "<div>\n",
       "<style scoped>\n",
       "    .dataframe tbody tr th:only-of-type {\n",
       "        vertical-align: middle;\n",
       "    }\n",
       "\n",
       "    .dataframe tbody tr th {\n",
       "        vertical-align: top;\n",
       "    }\n",
       "\n",
       "    .dataframe thead th {\n",
       "        text-align: right;\n",
       "    }\n",
       "</style>\n",
       "<table border=\"1\" class=\"dataframe\">\n",
       "  <thead>\n",
       "    <tr style=\"text-align: right;\">\n",
       "      <th></th>\n",
       "      <th>Age</th>\n",
       "      <th>Gender</th>\n",
       "      <th>Name</th>\n",
       "    </tr>\n",
       "  </thead>\n",
       "  <tbody>\n",
       "    <tr>\n",
       "      <th>0</th>\n",
       "      <td>13.0</td>\n",
       "      <td>NaN</td>\n",
       "      <td>Anna</td>\n",
       "    </tr>\n",
       "    <tr>\n",
       "      <th>1</th>\n",
       "      <td>NaN</td>\n",
       "      <td>M</td>\n",
       "      <td>Bob</td>\n",
       "    </tr>\n",
       "  </tbody>\n",
       "</table>\n",
       "</div>"
      ],
      "text/plain": [
       "    Age Gender  Name\n",
       "0  13.0    NaN  Anna\n",
       "1   NaN      M   Bob"
      ]
     },
     "execution_count": 29,
     "metadata": {},
     "output_type": "execute_result"
    }
   ],
   "source": [
    "json_text = '[{\"Name\":\"Anna\", \"Age\":13},{\"Name\":\"Bob\",\"Gender\": \"M\"}]'\n",
    "df1 = pd.read_json(json_text)\n",
    "df1"
   ]
  },
  {
   "cell_type": "code",
   "execution_count": 30,
   "metadata": {},
   "outputs": [
    {
     "data": {
      "text/plain": [
       "Name    {'FirstName': 'Anna', 'LastName': 'M'}\n",
       "Age                                         13\n",
       "dtype: object"
      ]
     },
     "execution_count": 30,
     "metadata": {},
     "output_type": "execute_result"
    }
   ],
   "source": [
    "json_text = '{\"Name\":{\"FirstName\":\"Anna\",\"LastName\":\"M\"},\"Age\":13}'\n",
    "df2 = pd.read_json(json_text, typ=\"series\")\n",
    "# df2 = pd.read_json(json_text, typ=\"frame\")\n",
    "df2"
   ]
  },
  {
   "cell_type": "code",
   "execution_count": 31,
   "metadata": {},
   "outputs": [
    {
     "data": {
      "text/html": [
       "<div>\n",
       "<style scoped>\n",
       "    .dataframe tbody tr th:only-of-type {\n",
       "        vertical-align: middle;\n",
       "    }\n",
       "\n",
       "    .dataframe tbody tr th {\n",
       "        vertical-align: top;\n",
       "    }\n",
       "\n",
       "    .dataframe thead th {\n",
       "        text-align: right;\n",
       "    }\n",
       "</style>\n",
       "<table border=\"1\" class=\"dataframe\">\n",
       "  <thead>\n",
       "    <tr style=\"text-align: right;\">\n",
       "      <th></th>\n",
       "      <th>Age</th>\n",
       "      <th>Gender</th>\n",
       "      <th>Name</th>\n",
       "    </tr>\n",
       "  </thead>\n",
       "  <tbody>\n",
       "    <tr>\n",
       "      <th>0</th>\n",
       "      <td>13.0</td>\n",
       "      <td>None</td>\n",
       "      <td>Anna</td>\n",
       "    </tr>\n",
       "    <tr>\n",
       "      <th>1</th>\n",
       "      <td>NaN</td>\n",
       "      <td>M</td>\n",
       "      <td>Bob</td>\n",
       "    </tr>\n",
       "  </tbody>\n",
       "</table>\n",
       "</div>"
      ],
      "text/plain": [
       "    Age Gender  Name\n",
       "0  13.0   None  Anna\n",
       "1   NaN      M   Bob"
      ]
     },
     "execution_count": 31,
     "metadata": {},
     "output_type": "execute_result"
    }
   ],
   "source": [
    "# write to json file\n",
    "df1.to_json(\"writeJson_sample.json\")\n",
    "pd.read_json(\"writeJson_sample.json\")"
   ]
  },
  {
   "cell_type": "markdown",
   "metadata": {},
   "source": [
    "## 4. XML"
   ]
  },
  {
   "cell_type": "markdown",
   "metadata": {},
   "source": [
    "**XML (Extensible Markup Language)**, is a markup-language that is commonly used to structure, store, and transfer data between systems. "
   ]
  },
  {
   "cell_type": "markdown",
   "metadata": {},
   "source": [
    "Basically, the XML format data are organized in **elements**, which define the type of information exposed, and each element contains the actual data in the form of content or **attributes**. Each piece of information is delimited by a specific **tag**:\n",
    "\n",
    "``<data>\n",
    "    <student name=\"Anna\">\n",
    "        <email>anna@mail.com</email>\n",
    "        <grade>A</grade>\n",
    "        <age>13</age>\n",
    "    </student>\n",
    "    <student name=\"Bob\">\n",
    "        <email>bob@mail.com</email>\n",
    "        <grade>B</grade>\n",
    "        <age>12</age>\n",
    "    </student>\n",
    "    <student name=\"Charles\">\n",
    "        <email>charles@mail.com</email>\n",
    "        <grade>C</grade>\n",
    "        <age>8</age>\n",
    "    </student>\n",
    "    <student name=\"Damon\">\n",
    "        <email>damon@mail.com</email>\n",
    "        <grade>A</grade>\n",
    "        <age>9</age>\n",
    "    </student>\n",
    "</data>``\n",
    "\n",
    "In this example, each <font color=red>student</font> is represented by a ``<student>...</student>`` element, which has a <font color=blue>name attribute</font> containing the name of a specific student. Each of these elements has then ``sub-elements`` defined by the ``<email>``, ``<grade>`` and ``<age>`` tags; between these tags the actual data content referring to the given student is present. Let’s say this data is saved in an XML file called “students.xml”."
   ]
  },
  {
   "cell_type": "markdown",
   "metadata": {},
   "source": [
    "### 4.1 Read & Write XML Data with ``ElementTree`` module"
   ]
  },
  {
   "cell_type": "markdown",
   "metadata": {},
   "source": [
    "Given the structure of XML file, we can represent them as a tree, and this is the approach used by the ``xml.etree.ElementTree`` Python module. The parsing of our “students.xml” file starts at the root of the tree, namely the ``<data>`` element, which contains the entire data structure.\n",
    "\n"
   ]
  },
  {
   "cell_type": "code",
   "execution_count": 32,
   "metadata": {},
   "outputs": [
    {
     "data": {
      "text/plain": [
       "<Element 'data' at 0x12bc4762710>"
      ]
     },
     "execution_count": 32,
     "metadata": {},
     "output_type": "execute_result"
    }
   ],
   "source": [
    "import xml.etree.ElementTree as et\n",
    "\n",
    "xtree = et.parse(\"students.xml\")\n",
    "xroot = xtree.getroot()\n",
    "xroot"
   ]
  },
  {
   "cell_type": "markdown",
   "metadata": {},
   "source": [
    "Element has some useful methods that help iterate recursively over all the sub-tree below it (its children, their children, and so on). For example, Element.iter():"
   ]
  },
  {
   "cell_type": "code",
   "execution_count": 33,
   "metadata": {},
   "outputs": [
    {
     "name": "stdout",
     "output_type": "stream",
     "text": [
      "email anna@mail.com\n",
      "email bob@mail.com\n",
      "email charles@mail.com\n",
      "email damon@mail.com\n"
     ]
    }
   ],
   "source": [
    "for i in xroot.iter('email'):\n",
    "    print(i.tag, i.text)"
   ]
  },
  {
   "cell_type": "markdown",
   "metadata": {},
   "source": [
    "- ``Element.findall()`` finds only elements with a tag which are direct children of the current element;\n",
    "- ``Element.find()`` finds the first child with a particular tag;\n",
    "- ``Element.text`` accesses the element’s text content;\n",
    "- ``Element.get()`` accesses the element’s attributes."
   ]
  },
  {
   "cell_type": "code",
   "execution_count": 34,
   "metadata": {},
   "outputs": [
    {
     "name": "stdout",
     "output_type": "stream",
     "text": [
      "Anna anna@mail.com A 13\n",
      "Bob bob@mail.com B 12\n",
      "Charles charles@mail.com C 8\n",
      "Damon damon@mail.com A 9\n"
     ]
    }
   ],
   "source": [
    "for student in xroot.findall('student'):\n",
    "    name = student.get('name')\n",
    "    email = student.find('email').text\n",
    "    grade = student.find('grade').text\n",
    "    age = student.find('age').text\n",
    "    print(name,email,grade,age)"
   ]
  },
  {
   "cell_type": "markdown",
   "metadata": {},
   "source": [
    "We can think of XML data structure as a pandas DataFrame in which each student represents an observation, with its name attribute being the main identifier and the sub-elements being other features of the observation. Now we can iterate through each node of the tree, which means we will get each student element and grab its name attribute and all of its sub-elements to build our dataframe."
   ]
  },
  {
   "cell_type": "code",
   "execution_count": 35,
   "metadata": {},
   "outputs": [
    {
     "data": {
      "text/html": [
       "<div>\n",
       "<style scoped>\n",
       "    .dataframe tbody tr th:only-of-type {\n",
       "        vertical-align: middle;\n",
       "    }\n",
       "\n",
       "    .dataframe tbody tr th {\n",
       "        vertical-align: top;\n",
       "    }\n",
       "\n",
       "    .dataframe thead th {\n",
       "        text-align: right;\n",
       "    }\n",
       "</style>\n",
       "<table border=\"1\" class=\"dataframe\">\n",
       "  <thead>\n",
       "    <tr style=\"text-align: right;\">\n",
       "      <th></th>\n",
       "      <th>name</th>\n",
       "      <th>email</th>\n",
       "      <th>grade</th>\n",
       "      <th>age</th>\n",
       "    </tr>\n",
       "  </thead>\n",
       "  <tbody>\n",
       "    <tr>\n",
       "      <th>0</th>\n",
       "      <td>Anna</td>\n",
       "      <td>anna@mail.com</td>\n",
       "      <td>A</td>\n",
       "      <td>13</td>\n",
       "    </tr>\n",
       "    <tr>\n",
       "      <th>1</th>\n",
       "      <td>Bob</td>\n",
       "      <td>bob@mail.com</td>\n",
       "      <td>B</td>\n",
       "      <td>12</td>\n",
       "    </tr>\n",
       "    <tr>\n",
       "      <th>2</th>\n",
       "      <td>Charles</td>\n",
       "      <td>charles@mail.com</td>\n",
       "      <td>C</td>\n",
       "      <td>8</td>\n",
       "    </tr>\n",
       "    <tr>\n",
       "      <th>3</th>\n",
       "      <td>Damon</td>\n",
       "      <td>damon@mail.com</td>\n",
       "      <td>A</td>\n",
       "      <td>9</td>\n",
       "    </tr>\n",
       "  </tbody>\n",
       "</table>\n",
       "</div>"
      ],
      "text/plain": [
       "      name             email grade age\n",
       "0     Anna     anna@mail.com     A  13\n",
       "1      Bob      bob@mail.com     B  12\n",
       "2  Charles  charles@mail.com     C   8\n",
       "3    Damon    damon@mail.com     A   9"
      ]
     },
     "execution_count": 35,
     "metadata": {},
     "output_type": "execute_result"
    }
   ],
   "source": [
    "name_l = []\n",
    "email_l = []\n",
    "grade_l = []\n",
    "age_l = []\n",
    "for node in xroot:\n",
    "    s_name = node.get('name')\n",
    "    s_email = node.find('email').text\n",
    "    s_grade = node.find('grade').text\n",
    "    s_age = node.find('age').text\n",
    "    \n",
    "    name_l.append(s_name)\n",
    "    email_l.append(s_email)\n",
    "    grade_l.append(s_grade)\n",
    "    age_l.append(s_age)\n",
    "\n",
    "s_df = pd.DataFrame({'name':name_l, 'email':email_l, 'grade':grade_l, 'age':age_l})\n",
    "s_df"
   ]
  },
  {
   "cell_type": "markdown",
   "metadata": {},
   "source": [
    "The ``ElementTree`` module provides limited support for **XPath** expressions for locating elements in a tree. XPath (XML Path Language) is a path language for defining parts of an XML document."
   ]
  },
  {
   "cell_type": "code",
   "execution_count": 36,
   "metadata": {},
   "outputs": [
    {
     "name": "stdout",
     "output_type": "stream",
     "text": [
      "[<Element 'data' at 0x12bc7d8f240>]\n",
      "A\n",
      "B\n",
      "C\n",
      "A\n",
      "anna@mail.com\n",
      "bob@mail.com\n",
      "charles@mail.com\n",
      "damon@mail.com\n",
      "Bob\n",
      "bob@mail.com\n",
      "Students with grade A:\n",
      "Anna\n",
      "Damon\n"
     ]
    }
   ],
   "source": [
    "import xml.etree.ElementTree as et\n",
    "\n",
    "xtree = et.parse(\"students.xml\")\n",
    "xroot = xtree.getroot()\n",
    "# Top-level elements\n",
    "print(xroot.findall(\".\"))\n",
    "\n",
    "# All 'grade' grand-children of 'student' children of the top-level elements\n",
    "gnodes = (xroot.findall(\"./student/grade\"))\n",
    "for g in gnodes:\n",
    "    print(g.text)\n",
    "\n",
    "# All 'email' nodes \n",
    "enodes = (xroot.findall(\".//email\"))\n",
    "for e in enodes:\n",
    "    print (e.text)\n",
    "# All 'student' nodes that are the second child of their parent\n",
    "snodes = (xroot.findall(\".//student[2]\"))\n",
    "print(snodes[0].get('name'))\n",
    "\n",
    "# Email nodes with student name='Bob'\n",
    "emailnodes = xroot.findall(\"*[@name='Bob']/email\")\n",
    "print(emailnodes[0].text)\n",
    "\n",
    "# Student nodes with grade A\n",
    "snodes_a = xroot.findall(\".//student/[grade='A']\")\n",
    "print('Students with grade A:')\n",
    "for ss in snodes_a:\n",
    "    print(ss.attrib.get('name'))"
   ]
  },
  {
   "cell_type": "markdown",
   "metadata": {},
   "source": [
    "Supported XPath syntax:\n",
    "\n",
    "|Syntax|Meaning|\n",
    "------------| --------------\n",
    "|``tagname``| Selects all child elements with the given tag.For example, ``student`` selects all child elements named student<br> and ``student/grade`` selects all grandchildren named grade in all children named student. |\n",
    "|``*``| Selects all child elements. For example, ``*/email`` selects all grandchildren named email.|\n",
    "|``.``|Selects the current node. This is mostly useful at the beginning of the path, to indicate that it’s a relative path.|\n",
    "|``//``| Selects all subelements, on all levels beneath the current element. For example, ``.//email`` selects all email elements in the entire tree.|\n",
    "|``..``|Selects the parent element.|\n",
    "|``[@attrib]``|Selects all elements that have the given attribute.|\n",
    "|``[@attrib='value']``|Selects all elements for which the given attribute has the given value.|\n",
    "|``[tag]``|Selects all elements that have a child named tag. Only immediate children are supported.|\n",
    "|``[tag='text']``\t|Selects all elements that have a child named tag whose complete text content, including descendants, equals the given text.|\n",
    "|``[position]``|Selects all elements that are located at the given position.The position can be either an integer (1 is the first position), <br>the expression ``last()`` (for the last position), or a position relative to the last position (e.g. ``last()-1``).|"
   ]
  },
  {
   "cell_type": "markdown",
   "metadata": {},
   "source": [
    "To write data into XML files, follow the given steps:\n",
    "- Create an element using ``Element(tag)`` function, which will act as the root element.\n",
    "- Create sub-elements by using ``SubElement(parent,tag, attrib={})``, where the \n",
    "    - ``parent`` is the parent node,\n",
    "    - ``tag`` is the tag name,\n",
    "    - ``attrib`` is a dictionary containing the element attributes,\n",
    "    -  Write the created data to file."
   ]
  },
  {
   "cell_type": "code",
   "execution_count": 37,
   "metadata": {},
   "outputs": [
    {
     "name": "stdout",
     "output_type": "stream",
     "text": [
      "<?xml version='1.0' encoding='us-ascii'?>\n",
      "<data><student name=\"Anna\"><email>anna@mail.com</email><grade>A</grade><age>13</age></student><student name=\"Bob\"><email>bob@mail.com</email><grade>B</grade><age>12</age></student><student name=\"Charles\"><email>charles@mail.com</email><grade>C</grade><age>8</age></student><student name=\"Damon\"><email>damon@mail.com</email><grade>A</grade><age>9</age></student></data>\n",
      "<?xml version=\"1.0\" ?>\n",
      "<data>\n",
      "    <student name=\"Anna\">\n",
      "        <email>anna@mail.com</email>\n",
      "        <grade>A</grade>\n",
      "        <age>13</age>\n",
      "    </student>\n",
      "    <student name=\"Bob\">\n",
      "        <email>bob@mail.com</email>\n",
      "        <grade>B</grade>\n",
      "        <age>12</age>\n",
      "    </student>\n",
      "    <student name=\"Charles\">\n",
      "        <email>charles@mail.com</email>\n",
      "        <grade>C</grade>\n",
      "        <age>8</age>\n",
      "    </student>\n",
      "    <student name=\"Damon\">\n",
      "        <email>damon@mail.com</email>\n",
      "        <grade>A</grade>\n",
      "        <age>9</age>\n",
      "    </student>\n",
      "</data>\n",
      "\n"
     ]
    }
   ],
   "source": [
    "from xml.dom import minidom\n",
    "\n",
    "data = et.Element('data')\n",
    "for i in range(0, len(s_df)):\n",
    "    student = et.SubElement(data,'student',{'name':s_df.iloc[i]['name']})\n",
    "    email = et.SubElement(student,'email').text=s_df.iloc[i]['email']\n",
    "    grade = et.SubElement(student,'grade').text=s_df.iloc[i]['grade']\n",
    "    age = et.SubElement(student,'age').text=s_df.iloc[i]['age']\n",
    "\n",
    "# This will write to file without pretty printing\n",
    "tree = et.ElementTree(data)\n",
    "tree.write('writeXML.xml', xml_declaration=True)\n",
    "with open('writeXML.xml','r') as re:\n",
    "    print(re.read())\n",
    "\n",
    "# Pretty xml formats\n",
    "xmlstring =  minidom.parseString(et.tostring(data, encoding='UTF-8')).toprettyxml(indent=\"    \")\n",
    "with open('writePrettyXML.xml','w') as f:\n",
    "    f.write(xmlstring)\n",
    "\n",
    "print(open('writePrettyXML.xml','r').read())"
   ]
  }
 ],
 "metadata": {
  "anaconda-cloud": {},
  "kernelspec": {
   "display_name": "Python 3",
   "language": "python",
   "name": "python3"
  },
  "language_info": {
   "codemirror_mode": {
    "name": "ipython",
    "version": 3
   },
   "file_extension": ".py",
   "mimetype": "text/x-python",
   "name": "python",
   "nbconvert_exporter": "python",
   "pygments_lexer": "ipython3",
   "version": "3.7.1"
  },
  "toc": {
   "base_numbering": 1,
   "nav_menu": {
    "height": "533px",
    "width": "612px"
   },
   "number_sections": true,
   "sideBar": true,
   "skip_h1_title": false,
   "title_cell": "Table of Contents",
   "title_sidebar": "Contents",
   "toc_cell": false,
   "toc_position": {},
   "toc_section_display": true,
   "toc_window_display": false
  }
 },
 "nbformat": 4,
 "nbformat_minor": 1
}
